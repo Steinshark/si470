{
 "cells": [
  {
   "cell_type": "markdown",
   "id": "d2197814",
   "metadata": {},
   "source": [
    "## First off, lets get all of our imports out of the way"
   ]
  },
  {
   "cell_type": "code",
   "execution_count": 1,
   "id": "2e077abf",
   "metadata": {},
   "outputs": [],
   "source": [
    "import sklearn \n",
    "import pandas \n",
    "import numpy\n",
    "from datetime import datetime\n",
    "from datetime import timedelta\n",
    "import matplotlib.pyplot as plt\n",
    "from sklearn.linear_model import Ridge\n",
    "from sklearn.pipeline import make_pipeline\n",
    "from sklearn.preprocessing import *\n",
    "from sklearn.metrics import mean_absolute_error as mae"
   ]
  },
  {
   "cell_type": "markdown",
   "id": "eadbb648",
   "metadata": {},
   "source": [
    "### Now, we can load all of our datasets and start a global set"
   ]
  },
  {
   "cell_type": "code",
   "execution_count": 2,
   "id": "4c76a443",
   "metadata": {},
   "outputs": [],
   "source": [
    "# Covid data \n",
    "covid_2021 = open(\"counties21.csv\",'r').read().split('\\n')[1:]\n",
    "covid_2022 = open(\"counties22.csv\",'r').read().split('\\n')[1:]\n",
    "\n",
    "# Supporting, predictive data \n",
    "poverty_data = pandas.DataFrame(pandas.read_excel(\"county_poverty.xls\",skiprows=3))\n",
    "mask_data = pandas.DataFrame(pandas.read_csv(\"county_masks.csv\",dtype={'COUNTYFP':str,\"NEVER\":float,\"RARELY\":float,\"SOMETIMES\":float,\"FREQUENTLY\":float,\"ALWAYS\":float}))\n",
    "pop_data = pandas.DataFrame(pandas.read_csv(\"county_pop.csv\",encoding='big5'))"
   ]
  },
  {
   "cell_type": "markdown",
   "id": "ebd22373",
   "metadata": {},
   "source": [
    "This initializes dictionaries to start collecting all of our information for the final dataset "
   ]
  },
  {
   "cell_type": "code",
   "execution_count": 3,
   "id": "6109e734",
   "metadata": {},
   "outputs": [],
   "source": [
    "dataset = {}\n",
    "county_info = {}"
   ]
  },
  {
   "cell_type": "markdown",
   "id": "9159d7e1",
   "metadata": {},
   "source": [
    "### Now lets fill the dictionaries with helpful data\n",
    "First off is the covid statistics themselves, including avg_100k cases as well"
   ]
  },
  {
   "cell_type": "code",
   "execution_count": 4,
   "id": "b2b73b92",
   "metadata": {},
   "outputs": [],
   "source": [
    "# CLEAN COVID DATA \n",
    "for line in covid_2021 + covid_2022:\n",
    "    line = line.split(\",\")\n",
    "    date = line[0]\n",
    "    FIPS = line[1][-5:]\n",
    "    \n",
    "    # Ensure the FIPS code is there \n",
    "    if not FIPS in dataset:\n",
    "        dataset[FIPS] = {}\n",
    "    \n",
    "    # Ensure the FIPS code is in county_info\n",
    "    if not FIPS in county_info:\n",
    "        county_info[FIPS] = {}\n",
    "        \n",
    "    # Add the data\n",
    "    avg_cases = float(line[5])\n",
    "    try:\n",
    "        avg_per_100k = float(line[6])\n",
    "    except ValueError:\n",
    "        avg_per_100k = 0\n",
    "    dataset[FIPS][date] = {'FIPS': FIPS, 'date':date,'avg_cases':avg_cases,'avg_per_100k':avg_per_100k}\n",
    "    "
   ]
  },
  {
   "cell_type": "markdown",
   "id": "57ade186",
   "metadata": {},
   "source": [
    "This will get adj county data, mapping a fips code to a list of fips codes "
   ]
  },
  {
   "cell_type": "code",
   "execution_count": 5,
   "id": "b7b8f051",
   "metadata": {},
   "outputs": [],
   "source": [
    "# CLEAN ADJ DATA\n",
    "adj_counties = {}\n",
    "cur_key = None\n",
    "for line in open(\"county_adjacency.txt\",'r',encoding=\"iso-8859-1\").read().split('\\n'):\n",
    "    try:\n",
    "        if not line[0] == '\\t':\n",
    "            try:\n",
    "                line = line.split('\\t')\n",
    "                cur_key = line[1].strip()\n",
    "                adj_counties[cur_key] = []\n",
    "            except IndexError:\n",
    "                pass\n",
    "        else:\n",
    "            line=line.split('\\t')\n",
    "            county_fips = line[-1].strip()\n",
    "            adj_counties[cur_key].append(county_fips)\n",
    "    except IndexError:\n",
    "        pass "
   ]
  },
  {
   "cell_type": "markdown",
   "id": "a0286b09",
   "metadata": {},
   "source": [
    "Next up is population data, which will fill the county dataset dictionary since this does not change over time (relatively)"
   ]
  },
  {
   "cell_type": "code",
   "execution_count": 6,
   "id": "4fc5e373",
   "metadata": {},
   "outputs": [],
   "source": [
    "   \n",
    "# CLEAN POP DATA \n",
    "for state,county,pop in zip(pop_data[\"STATE\"],pop_data['COUNTY'], pop_data['TOT_POP']):\n",
    "    state = f\"{state:002}\"\n",
    "    county = f\"{county:003}\"\n",
    "    fips = state + county\n",
    "    \n",
    "    pop = int(pop)\n",
    "    \n",
    "    # Make sure its in the covid dataset, otherwise ignore it \n",
    "    if not fips in dataset or not fips in county_info:\n",
    "        continue\n",
    "        \n",
    "    # Make a running total of the population\n",
    "    try:\n",
    "        county_info[fips]['population'] += pop\n",
    "    except KeyError:\n",
    "        county_info[fips]['population'] = float(pop)"
   ]
  },
  {
   "cell_type": "markdown",
   "id": "97ce3cd2",
   "metadata": {},
   "source": [
    "This next section finds mask usage data, which will go into the county specific dictionary since it also is constant accross the dates "
   ]
  },
  {
   "cell_type": "code",
   "execution_count": 7,
   "id": "42a80053",
   "metadata": {},
   "outputs": [],
   "source": [
    "    \n",
    "# CLEAN MASKS \n",
    "for r in mask_data.iterrows():\n",
    "    fips,never,rare,some,freq,always = r[1]\n",
    "    high = freq+always \n",
    "    med = some\n",
    "    low = never + rare\n",
    "    \n",
    "    if not fips in dataset or not fips in county_info:\n",
    "        continue\n",
    "    \n",
    "    county_info[fips]['low_mask'] = low \n",
    "    county_info[fips]['med_mask'] = med \n",
    "    county_info[fips]['high_mask'] = high"
   ]
  },
  {
   "cell_type": "markdown",
   "id": "ba9c7ccf",
   "metadata": {},
   "source": [
    "Next, well find the county with the highest 100k average cases for a given date"
   ]
  },
  {
   "cell_type": "code",
   "execution_count": 8,
   "id": "92835c20",
   "metadata": {},
   "outputs": [],
   "source": [
    "r_count = 0 \n",
    "# FIND ADJ COUNTY HIGHEST 100k_avg\n",
    "for i,county in enumerate(dataset,1):\n",
    "    for date in dataset[county]:\n",
    "        try:\n",
    "            # Get adjacent counties and their avg \n",
    "            counties = {c:0 for c in adj_counties[county]}\n",
    "            max_100k = 0\n",
    "            for c in counties:\n",
    "                count = dataset[c][date]['avg_per_100k']\n",
    "                if count > max_100k:\n",
    "                    max_100k = count \n",
    "            r_count += max_100k\n",
    "            dataset[county][date]['max_adj_100k'] = max_100k\n",
    "\n",
    "        except KeyError:\n",
    "            dataset[county][date]['max_adj_100k'] = r_count / i# Use the latest average data"
   ]
  },
  {
   "cell_type": "markdown",
   "id": "5f795e3a",
   "metadata": {},
   "source": [
    "We will now fill poverty data"
   ]
  },
  {
   "cell_type": "code",
   "execution_count": 9,
   "id": "a92601c8",
   "metadata": {},
   "outputs": [],
   "source": [
    "for state,county,poverty in zip(poverty_data[\"State FIPS Code\"],poverty_data['County FIPS Code'], poverty_data['Poverty Estimate, All Ages']):\n",
    "    state = f\"{state:002}\"\n",
    "    county = f\"{county:003}\"\n",
    "    fips = state + county\n",
    "    try:\n",
    "        county_info[fips]['poverty'] = poverty / county_info[fips]['population']\n",
    "    except KeyError:\n",
    "        pass\n",
    "    except TypeError:\n",
    "        pass"
   ]
  },
  {
   "cell_type": "markdown",
   "id": "0bf86a80",
   "metadata": {},
   "source": [
    "### Here are some nice helper functions"
   ]
  },
  {
   "cell_type": "code",
   "execution_count": 10,
   "id": "4bc374c1",
   "metadata": {},
   "outputs": [],
   "source": [
    "# A nice way to add 14 days to a current date (as a string)\n",
    "def two_weeks_after(date):\n",
    "    d2 = datetime.strptime(date, \"%Y-%m-%d\")\n",
    "    delta = d2+timedelta(days=14)\n",
    "    return delta.strftime('%Y-%m-%d')\n",
    "def days_since_start(date):\n",
    "    delta = datetime.strptime(date,\"%Y-%m-%d\") - datetime(2021,1,1)\n",
    "    return delta.days"
   ]
  },
  {
   "cell_type": "markdown",
   "id": "9f5981fb",
   "metadata": {},
   "source": [
    "### Create the Final Dataset"
   ]
  },
  {
   "cell_type": "code",
   "execution_count": 13,
   "id": "0e7d1949",
   "metadata": {},
   "outputs": [],
   "source": [
    "final_data = []\n",
    "predicting = []\n",
    "for c in dataset:\n",
    "    for d in dataset[c]: \n",
    "        try:\n",
    "            # Add the actual 2-week covid numbers\n",
    "            future_date = two_weeks_after(d)\n",
    "            dataset[c][d]['2_week_cases'] = dataset[c][future_date]['avg_cases']\n",
    "            actual_rate = dataset[c][d]['2_week_cases']\n",
    "            \n",
    "            # Add to the final list \n",
    "            FIPS = dataset[c][d]['FIPS']\n",
    "            \n",
    "            # Date specific info\n",
    "            datapoint = [actual_rate,int(FIPS),days_since_start(dataset[c][d]['date']),dataset[c][d]['avg_cases'],dataset[c][d]['avg_per_100k'],dataset[c][d]['max_adj_100k']]\n",
    "            \n",
    "            # County Specific info\n",
    "            datapoint += [county_info[FIPS]['poverty'],county_info[fips]['low_mask'],county_info[fips]['med_mask'],county_info[fips]['high_mask'],county_info[fips]['population']]          \n",
    "            \n",
    "            final_data.append(datapoint)\n",
    "            \n",
    "        # This acounts for the last 2 weeks of data \n",
    "            #if c == '51059' and (datetime.strptime(d, \"%Y-%m-%d\") - datetime.strptime(\"2022-03-20\",\"%Y-%m-%d\")).days < 14:\n",
    "             #   predicting.append([actual_rate,int(FIPS),days_since_start(dataset[c][d]['date']),dataset[c][d]['avg_cases'],dataset[c][d]['avg_per_100k'],dataset[c][d]['max_adj_100k']])\n",
    "                # County Specific info\n",
    "              #  predicting[-1] += [county_info[FIPS]['poverty'],county_info[fips]['low_mask'],county_info[fips]['med_mask'],county_info[fips]['high_mask'],county_info[fips]['population']]          \n",
    "        \n",
    "        except KeyError:\n",
    "            if c == '51059':\n",
    "                predicting.append([actual_rate,int(FIPS),days_since_start(dataset[c][d]['date']),dataset[c][d]['avg_cases'],dataset[c][d]['avg_per_100k'],dataset[c][d]['max_adj_100k']])\n",
    "                # County Specific info\n",
    "                predicting[-1] += [county_info[FIPS]['poverty'],county_info[fips]['low_mask'],county_info[fips]['med_mask'],county_info[fips]['high_mask'],county_info[fips]['population']]          \n",
    "np_arr = numpy.array([numpy.array(data) for data in final_data])\n",
    "        "
   ]
  },
  {
   "cell_type": "code",
   "execution_count": 14,
   "id": "7f66247b",
   "metadata": {},
   "outputs": [],
   "source": [
    "numpy.save(\"covid_clean_data\",np_arr)"
   ]
  },
  {
   "cell_type": "markdown",
   "id": "d7735795",
   "metadata": {},
   "source": [
    "### Now we start the Machine Learning portion!"
   ]
  },
  {
   "cell_type": "markdown",
   "id": "eeb024c1",
   "metadata": {},
   "source": [
    "Lets split our data up - 80% to train, 20% to test "
   ]
  },
  {
   "cell_type": "code",
   "execution_count": null,
   "id": "290a5d26",
   "metadata": {},
   "outputs": [],
   "source": [
    "# First make a train test split \n",
    "numpy.random.shuffle(np_arr)\n",
    "size = int(len(np_arr)*.8)\n",
    "x_train,y_train,x_test,y_test = np_arr[:size,1:],np_arr[:size,0],np_arr[size:,1:],np_arr[size:,0]"
   ]
  },
  {
   "cell_type": "markdown",
   "id": "3e163ea0",
   "metadata": {},
   "source": [
    "This is our model pipeline"
   ]
  },
  {
   "cell_type": "code",
   "execution_count": null,
   "id": "a39a5d3a",
   "metadata": {},
   "outputs": [],
   "source": [
    "# Now init our model\n",
    "pipe=make_pipeline(PolynomialFeatures(degree=4),StandardScaler(),Ridge(alpha=0.01))\n",
    "# And throw our data into it \n",
    "pipe.fit(x_train,y_train)"
   ]
  },
  {
   "cell_type": "markdown",
   "id": "b97224f7",
   "metadata": {},
   "source": [
    "Lets see how it did!"
   ]
  },
  {
   "cell_type": "code",
   "execution_count": null,
   "id": "546ae8da",
   "metadata": {},
   "outputs": [],
   "source": [
    "testYs = pipe.predict(x_test)\n",
    "print(f\"model mean absolute error: {mae(y_test,testYs)}\")"
   ]
  },
  {
   "cell_type": "markdown",
   "id": "a5a3d8ca",
   "metadata": {},
   "source": [
    "Now lets get predictions for Fairfax county (where Im from!)"
   ]
  },
  {
   "cell_type": "code",
   "execution_count": 2,
   "id": "8899e6e6",
   "metadata": {},
   "outputs": [
    {
     "ename": "NameError",
     "evalue": "name 'pipe' is not defined",
     "output_type": "error",
     "traceback": [
      "\u001b[1;31m---------------------------------------------------------------------------\u001b[0m",
      "\u001b[1;31mNameError\u001b[0m                                 Traceback (most recent call last)",
      "\u001b[1;32m~\\AppData\\Local\\Temp\\1/ipykernel_11180/2667251006.py\u001b[0m in \u001b[0;36m<module>\u001b[1;34m\u001b[0m\n\u001b[1;32m----> 1\u001b[1;33m \u001b[0mpredicting_vals\u001b[0m \u001b[1;33m=\u001b[0m \u001b[0mpipe\u001b[0m\u001b[1;33m.\u001b[0m\u001b[0mfit\u001b[0m\u001b[1;33m(\u001b[0m\u001b[0mpredicting\u001b[0m\u001b[1;33m)\u001b[0m\u001b[1;33m\u001b[0m\u001b[1;33m\u001b[0m\u001b[0m\n\u001b[0m\u001b[0;32m      2\u001b[0m \u001b[1;33m\u001b[0m\u001b[0m\n\u001b[0;32m      3\u001b[0m \u001b[0mprint\u001b[0m\u001b[1;33m(\u001b[0m\u001b[1;34mf\"fairfax county predictions: {predicting_vals}\"\u001b[0m\u001b[1;33m)\u001b[0m\u001b[1;33m\u001b[0m\u001b[1;33m\u001b[0m\u001b[0m\n",
      "\u001b[1;31mNameError\u001b[0m: name 'pipe' is not defined"
     ]
    }
   ],
   "source": [
    "predicting_vals = pipe.fit(predicting)\n",
    "\n",
    "print(f\"fairfax county predictions: {predicting_vals}\")"
   ]
  },
  {
   "cell_type": "code",
   "execution_count": null,
   "id": "651a6323",
   "metadata": {},
   "outputs": [],
   "source": []
  }
 ],
 "metadata": {
  "kernelspec": {
   "display_name": "Python 3 (ipykernel)",
   "language": "python",
   "name": "python3"
  },
  "language_info": {
   "codemirror_mode": {
    "name": "ipython",
    "version": 3
   },
   "file_extension": ".py",
   "mimetype": "text/x-python",
   "name": "python",
   "nbconvert_exporter": "python",
   "pygments_lexer": "ipython3",
   "version": "3.9.7"
  }
 },
 "nbformat": 4,
 "nbformat_minor": 5
}
