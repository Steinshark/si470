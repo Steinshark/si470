{
 "cells": [
  {
   "cell_type": "code",
   "execution_count": 12,
   "id": "3ae1e14e",
   "metadata": {},
   "outputs": [],
   "source": [
    "import numpy as np \n",
    "import pandas as pd \n",
    "import os \n",
    "import scipy \n",
    "import sklearn.model_selection\n",
    "import math\n",
    "from matplotlib import pyplot as plt"
   ]
  },
  {
   "cell_type": "code",
   "execution_count": 13,
   "id": "a08fb3ee",
   "metadata": {},
   "outputs": [],
   "source": [
    "id_to_name = {}\n",
    "id_to_col = {}\n",
    "col_to_id = {}\n",
    "file = pd.read_csv(r'ml-latest-small/movies.csv')\n",
    "for i, (mov_id, name) in enumerate(zip(file['movieId'],file['title'])):\n",
    "    mov_id = int(mov_id)\n",
    "    id_to_col[mov_id] = i\n",
    "    col_to_id[i] = mov_id\n",
    "    id_to_name[mov_id] = name "
   ]
  },
  {
   "cell_type": "code",
   "execution_count": 31,
   "id": "79ff5c9c",
   "metadata": {},
   "outputs": [],
   "source": [
    "user_rows = []\n",
    "user_cols = []\n",
    "\n",
    "user_values = []\n",
    "user_ids = []\n",
    "\n",
    "user_ratings = {}\n",
    "\n",
    "\n",
    "\n",
    "with open(r\"ml-latest-small/ratings.csv\",'r') as file:\n",
    "    file.readline()\n",
    "    for line in file:\n",
    "        line_data = line.split(\",\")\n",
    "        user_id = int(line_data[0])\n",
    "        movie_id = int(line_data[1])\n",
    "        rating = float(line_data[2])\n",
    "        \n",
    "        user_rows.append(user_id)\n",
    "        user_cols.append(id_to_col[movie_id])\n",
    "        user_values.append(rating)\n",
    "        \n",
    "        if not user_id in user_ids:\n",
    "            user_ids.append(user_id)"
   ]
  },
  {
   "cell_type": "code",
   "execution_count": 32,
   "id": "cbb2d765",
   "metadata": {},
   "outputs": [],
   "source": [
    "my_ratings = []\n",
    "my_id = 611\n",
    "# I like:\n",
    "\n",
    "# Captain America Winter Soldier\n",
    "my_ratings.append((my_id,id_to_col[110102],5))\n",
    "# Captain America Civil War\n",
    "my_ratings.append((my_id,id_to_col[122920],5))\n",
    "# Kung Fu Hustle \n",
    "my_ratings.append((my_id,id_to_col[31878],5))\n",
    "# The Immitation Game\n",
    "my_ratings.append((my_id,id_to_col[116797],5))\n",
    "# Doctor Strange\n",
    "my_ratings.append((my_id,id_to_col[122922],4))\n",
    "# Pirates of the Carribean\n",
    "my_ratings.append((my_id,id_to_col[6539],5))\n",
    "# Moana \n",
    "my_ratings.append((my_id,id_to_col[166461],4))\n",
    "# Guardians of the Galaxy \n",
    "my_ratings.append((my_id,id_to_col[112852],4))\n",
    "# Mulan\n",
    "my_ratings.append((my_id,id_to_col[1907],5))\n",
    "\n",
    "# I dont like:\n",
    "\n",
    "# Transformers\n",
    "my_ratings.append((my_id,id_to_col[112370],0))\n",
    "# Zathura \n",
    "my_ratings.append((my_id,id_to_col[40851],0))\n",
    "# Pitch Perfect\n",
    "my_ratings.append((my_id,id_to_col[96588],0))\n",
    "# It\n",
    "my_ratings.append((my_id,id_to_col[175303],0))\n",
    "# Both of them\n",
    "my_ratings.append((my_id,id_to_col[26693],0))\n",
    "# Jumanji Jumanji\n",
    "my_ratings.append((my_id,id_to_col[2],0))\n",
    "# Dumb and Dumber to\n",
    "my_ratings.append((my_id,id_to_col[116977],0))\n",
    "\n",
    "for movie in my_ratings:\n",
    "    my_id, movie_id, rating = movie\n",
    "    user_rows.append(my_id)\n",
    "    user_cols.append(movie_id)\n",
    "    user_values.append(rating)\n",
    "    \n",
    "# Add myself to unique user ids \n",
    "user_ids.append(my_id)"
   ]
  },
  {
   "cell_type": "code",
   "execution_count": 33,
   "id": "24c8b33f",
   "metadata": {},
   "outputs": [],
   "source": [
    "matrix = scipy.sparse.coo_matrix((user_values,(user_rows, user_cols))).tocsr()"
   ]
  },
  {
   "cell_type": "code",
   "execution_count": 34,
   "id": "d795f30f",
   "metadata": {},
   "outputs": [],
   "source": [
    "train_users = np.random.choice(user_ids,int(len(user_ids)*.80),replace=False)\n",
    "test_users = [u for u in user_ids if not u in train_users]\n",
    "\n",
    "# make sure Im in the training set!\n",
    "if not my_id in train_users:\n",
    "    np.append(train_users,my_id)\n",
    "    test_users.remove(my_id)"
   ]
  },
  {
   "cell_type": "code",
   "execution_count": 35,
   "id": "f01e0dc2",
   "metadata": {},
   "outputs": [],
   "source": [
    "def rmse(indices,values,p,q):\n",
    "    T  = 1 / len(values)\n",
    "    \n",
    "    current_guess = p@q\n",
    "    summed_err = 0 \n",
    "    \n",
    "    for i,v in zip(indices,values):\n",
    "            row, col = i\n",
    "            summed_err += (current_guess[row][col] - v) ** 2\n",
    "    \n",
    "    return  T * math.sqrt(summed_err)   "
   ]
  },
  {
   "cell_type": "code",
   "execution_count": 36,
   "id": "d92ef1dd",
   "metadata": {},
   "outputs": [],
   "source": [
    "def find_best_fit(indices,values,rows,cols,dim):\n",
    "    \n",
    "    # Keep track of the best matrices weve found and make inits  \n",
    "    best_min, best_max = None, None\n",
    "    min_err = 100\n",
    "    max_err = 0\n",
    "    grid = []\n",
    "    test_low, test_high = .05, 1.2 \n",
    "    \n",
    "    # test all combinations of low, and high values \n",
    "    for min_v in np.arange(test_low,test_high,.05):\n",
    "        grid.insert(0,[])\n",
    "        for max_v in np.arange(test_low,test_high,.05):\n",
    "            if min_v >= max_v: # unless it doesnt make sense \n",
    "                grid[0].append(-1)\n",
    "                continue\n",
    "            p = min_v + (max_v - min_v) * np.random.rand(rows,dim)\n",
    "            q = min_v + (max_v - min_v) * np.random.rand(dim,cols)\n",
    "            error = rmse(indices,values,p,q)\n",
    "            grid[0].append(error)\n",
    "            if error > max_err:\n",
    "                max_err = error\n",
    "            if error < min_err:\n",
    "                min_err = error \n",
    "                best_min = min_v\n",
    "                best_max = max_v\n",
    "                \n",
    "    # set all non-calculated numbers as the 30% over the max (for nice coloring) \n",
    "    for i in range(len(grid)):\n",
    "        for j in range(len(grid[i])):\n",
    "            if grid[i][j] == -1:\n",
    "                grid[i][j] = max_err * 1.3\n",
    "                \n",
    "    # Make a nice plot \n",
    "    plt.imshow(grid,extent = [test_low ,test_high, test_low,test_high],cmap='cool',vmin=0,vmax=max_err*1.4)\n",
    "    plt.xlabel(\"min val\")\n",
    "    plt.ylabel(\"max val\")\n",
    "    plt.title(\"init rmse by min and max\\nlight = min\")\n",
    "    #plt.show()\n",
    "\n",
    "    return best_min, best_max   "
   ]
  },
  {
   "cell_type": "code",
   "execution_count": 37,
   "id": "d4cac1bc",
   "metadata": {},
   "outputs": [],
   "source": [
    "def GradientDescent(indices,values,t_indices,t_values,rows,cols,p,q,dim=10,alpha=.1,iters=1,cutoff=.005):\n",
    "    \n",
    "    # Run 'iter' times\n",
    "    train_rmses = []\n",
    "    test_rmses = []\n",
    "    \n",
    "    for iteration in range(iters):\n",
    "            \n",
    "        for i, val in zip(indices,values):\n",
    "            i, j = i # unpack indices \n",
    "            \n",
    "            # Get jth col from q and ith row from p\n",
    "            q_j = q[:,j]\n",
    "            p_i = p[i]\n",
    "                  \n",
    "            a = p_i@q_j\n",
    "                  \n",
    "            # Find the err present\n",
    "            err = val - a\n",
    "\n",
    "            # Find how much to nudge down the gradient\n",
    "            nudge = err * alpha\n",
    "\n",
    "            # Update p and q vals down the gradient\n",
    "            p[i] = p_i + q_j * nudge\n",
    "            q[:,j] = q_j + p_i * nudge\n",
    "                \n",
    "\n",
    "        # Output\n",
    "        if iteration % 3 == 0:\n",
    "            train_error = rmse(indices,values,p,q)\n",
    "            test_error = rmse(t_indices,t_values,p,q)\n",
    "            try:\n",
    "                delta_test = 100 * (test_rmses[-1] - test_error) / test_error\n",
    "            except IndexError:\n",
    "                delta_test = 1\n",
    "            if len(test_rmses) > 1 and (delta_test < cutoff):\n",
    "                return p,q,train_rmses,test_rmses\n",
    "            train_rmses.append(train_error)\n",
    "            test_rmses.append(test_error)     \n",
    "    return p,q,train_rmses,test_rmses"
   ]
  },
  {
   "cell_type": "code",
   "execution_count": 38,
   "id": "eacb261f",
   "metadata": {},
   "outputs": [
    {
     "name": "stdout",
     "output_type": "stream",
     "text": [
      "choose a dimension to reduce to: 2\n"
     ]
    }
   ],
   "source": [
    "# First well set parameters\n",
    "dimension = int(input(\"choose a dimension to reduce to: \"))\n",
    "n_rows, n_cols = matrix.shape\n",
    "\n",
    "# The train set \n",
    "train_indices = [(user_rows[i],user_cols[i]) for i in train_users]\n",
    "train_values  = [user_values[i] for i in train_users] \n",
    "\n",
    "# The test set \n",
    "test_indices = [(user_rows[i],user_cols[i]) for i in test_users]\n",
    "test_values  = [user_values[i] for i in test_users] "
   ]
  },
  {
   "cell_type": "code",
   "execution_count": 39,
   "id": "3712eb2a",
   "metadata": {},
   "outputs": [
    {
     "data": {
      "image/png": "[encoded data removed]",
      "text/plain": [
       "<Figure size 432x288 with 1 Axes>"
      ]
     },
     "metadata": {
      "needs_background": "light"
     },
     "output_type": "display_data"
    }
   ],
   "source": [
    "# Now, lets tweak min and max vals for the given dimension that will start off with the least rmse \n",
    "minimum_val , maximum_val = find_best_fit(train_indices,train_values,n_rows,n_cols,dimension)"
   ]
  },
  {
   "cell_type": "code",
   "execution_count": 40,
   "id": "a0de9a9f",
   "metadata": {},
   "outputs": [],
   "source": [
    "# Make the p and q matrices now \n",
    "p = minimum_val + (maximum_val - minimum_val) * np.random.rand(n_rows,dimension)\n",
    "q = minimum_val + (maximum_val - minimum_val) * np.random.rand(dimension,n_cols)\n",
    "\n",
    "# And now lets do the actual calculation!\n",
    "# Algorithm will cutoff at 'cutoff' as a percent change in rmse \n",
    "final_p,final_q,train_err,test_err = GradientDescent(train_indices,\n",
    "                                                     train_values,\n",
    "\n",
    "                                                     test_indices,\n",
    "                                                     test_values,\n",
    "\n",
    "                                                     n_rows,\n",
    "                                                     n_cols,\n",
    "\n",
    "                                                     p,\n",
    "                                                     q,\n",
    "\n",
    "                                                     dim=dimension,\n",
    "                                                     alpha=.00001,\n",
    "                                                     iters=100000,\n",
    "                                                     cutoff=.01)"
   ]
  },
  {
   "cell_type": "code",
   "execution_count": 41,
   "id": "c3b88470",
   "metadata": {},
   "outputs": [
    {
     "data": {
      "text/plain": [
       "<matplotlib.legend.Legend at 0x7f009cc03c70>"
      ]
     },
     "execution_count": 41,
     "metadata": {},
     "output_type": "execute_result"
    },
    {
     "data": {
      "image/png": "[encoded data removed]",
      "text/plain": [
       "<Figure size 432x288 with 1 Axes>"
      ]
     },
     "metadata": {
      "needs_background": "light"
     },
     "output_type": "display_data"
    }
   ],
   "source": [
    "plt.plot(train_err,label='training set')\n",
    "plt.plot(test_err,label='testing set')\n",
    "plt.xlabel(\"iterations x 1000\")\n",
    "plt.ylabel(\"rmse\")\n",
    "plt.title(\"RMSE vs iteration\")\n",
    "plt.legend()"
   ]
  },
  {
   "cell_type": "code",
   "execution_count": 42,
   "id": "65c26f2b",
   "metadata": {},
   "outputs": [
    {
     "name": "stdout",
     "output_type": "stream",
     "text": [
      "You should watch: Fantasia (1940) rated 2.59\n",
      "You should watch: Road Warrior, The (Mad Max 2) (1981) rated 2.59\n",
      "You should watch: Wizard of Oz, The (1939) rated 2.58\n",
      "You should watch: Fugitive, The (1993) rated 2.58\n",
      "You should watch: Gone with the Wind (1939) rated 2.57\n",
      "You should watch: Jungle Book, The (1967) rated 2.57\n",
      "You should watch: Eat Drink Man Woman (Yin shi nan nu) (1994) rated 2.57\n",
      "You should watch: L.I.E. (2001) rated 2.57\n",
      "You should watch: Inside Job (2010) rated 2.57\n",
      "You should watch: Flirting With Disaster (1996) rated 2.56\n"
     ]
    }
   ],
   "source": [
    "# And now lets see my rating suggestions!\n",
    "suggestions = p@q\n",
    "\n",
    "my_suggestions = []\n",
    "for _ in range(10):\n",
    "    \n",
    "    top_suggestion = 0\n",
    "    top_movie = None \n",
    "    for movie_id, rating in enumerate(suggestions[my_id]):\n",
    "        if rating > top_suggestion and not movie_id in my_suggestions:\n",
    "            top_suggestion = rating\n",
    "            top_movie = movie_id\n",
    "    my_suggestions.append(top_movie)\n",
    "    print(f\"You should watch: {id_to_name[col_to_id[top_movie]]} rated {top_suggestion:.2f}\")"
   ]
  },
  {
   "cell_type": "code",
   "execution_count": 43,
   "id": "cdb34a8a",
   "metadata": {},
   "outputs": [
    {
     "data": {
      "image/png": "[encoded data removed]",
      "text/plain": [
       "<Figure size 432x288 with 1 Axes>"
      ]
     },
     "metadata": {
      "needs_background": "light"
     },
     "output_type": "display_data"
    }
   ],
   "source": [
    "dimension = 5\n",
    "minimum_val , maximum_val = find_best_fit(train_indices,train_values,n_rows,n_cols,dimension)\n",
    "# Make the p and q matrices now \n",
    "p = minimum_val + (maximum_val - minimum_val) * np.random.rand(n_rows,dimension)\n",
    "q = minimum_val + (maximum_val - minimum_val) * np.random.rand(dimension,n_cols)\n",
    "\n",
    "# And now lets do the actual calculation!\n",
    "# Algorithm will cutoff at 'cutoff' as a percent change in rmse \n",
    "final_p,final_q,train_err,test_err = GradientDescent(train_indices,\n",
    "                                                     train_values,\n",
    "\n",
    "                                                     test_indices,\n",
    "                                                     test_values,\n",
    "\n",
    "                                                     n_rows,\n",
    "                                                     n_cols,\n",
    "\n",
    "                                                     p,\n",
    "                                                     q,\n",
    "\n",
    "                                                     dim=dimension,\n",
    "                                                     alpha=.00001,\n",
    "                                                     iters=100000,\n",
    "                                                     cutoff=.01)"
   ]
  },
  {
   "cell_type": "code",
   "execution_count": 44,
   "id": "dc16536b",
   "metadata": {},
   "outputs": [
    {
     "data": {
      "text/plain": [
       "Text(0, 0.5, 'RMSE')"
      ]
     },
     "execution_count": 44,
     "metadata": {},
     "output_type": "execute_result"
    },
    {
     "data": {
      "image/png": "[encoded data removed]",
      "text/plain": [
       "<Figure size 432x288 with 1 Axes>"
      ]
     },
     "metadata": {
      "needs_background": "light"
     },
     "output_type": "display_data"
    }
   ],
   "source": [
    "plt.plot(test_err)\n",
    "plt.title(\"RMSE vs iter\")\n",
    "plt.xlabel(\"iteration\")\n",
    "plt.ylabel(\"RMSE\")"
   ]
  },
  {
   "cell_type": "code",
   "execution_count": 45,
   "id": "d44a8223",
   "metadata": {},
   "outputs": [
    {
     "name": "stdout",
     "output_type": "stream",
     "text": [
      "You should watch: Damn Yankees! (1958) rated 4.81\n",
      "You should watch: Citizen Kane (1941) rated 4.77\n",
      "You should watch: Last Hurrah for Chivalry (Hao xia) (1979) rated 4.75\n",
      "You should watch: Jason and the Argonauts (1963) rated 4.73\n",
      "You should watch: Brake (2012) rated 4.73\n",
      "You should watch: Something to Talk About (1995) rated 4.73\n",
      "You should watch: Rory O'Shea Was Here (Inside I'm Dancing) (2004) rated 4.72\n",
      "You should watch: Collector, The (La collectionneuse) (1967) rated 4.71\n",
      "You should watch: Balls of Fury (2007) rated 4.71\n",
      "You should watch: Ted 2 (2015) rated 4.71\n"
     ]
    }
   ],
   "source": [
    "# And now lets see my rating suggestions!\n",
    "suggestions = p@q\n",
    "\n",
    "my_suggestions = []\n",
    "for _ in range(10):\n",
    "    \n",
    "    top_suggestion = 0\n",
    "    top_movie = None \n",
    "    for movie_id, rating in enumerate(suggestions[my_id]):\n",
    "        if rating > top_suggestion and not movie_id in my_suggestions:\n",
    "            top_suggestion = rating\n",
    "            top_movie = movie_id\n",
    "    my_suggestions.append(top_movie)\n",
    "    print(f\"You should watch: {id_to_name[col_to_id[top_movie]]} rated {top_suggestion:.2f}\")"
   ]
  },
  {
   "cell_type": "code",
   "execution_count": null,
   "id": "d87bd0e0",
   "metadata": {},
   "outputs": [],
   "source": []
  }
 ],
 "metadata": {
  "kernelspec": {
   "display_name": "Python [conda env:gputf]",
   "language": "python",
   "name": "conda-env-gputf-py"
  },
  "language_info": {
   "codemirror_mode": {
    "name": "ipython",
    "version": 3
   },
   "file_extension": ".py",
   "mimetype": "text/x-python",
   "name": "python",
   "nbconvert_exporter": "python",
   "pygments_lexer": "ipython3",
   "version": "3.9.7"
  }
 },
 "nbformat": 4,
 "nbformat_minor": 5
}
